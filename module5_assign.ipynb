{
 "cells": [
  {
   "cell_type": "code",
   "execution_count": 12,
   "metadata": {},
   "outputs": [
    {
     "name": "stdout",
     "output_type": "stream",
     "text": [
      "Inside try block\n",
      "ZeroDivisionError: Inside except block\n"
     ]
    }
   ],
   "source": [
    "'''\n",
    "Assignment 5.1\n",
    "A simple program in which we write a function to compute 5/0 and use try/except to catch the exceptions.\n",
    "'''\n",
    "def funcforexcept(): #function containing try and except block\n",
    "    a=5/0            #ZeroDivision error statment\n",
    "    print(\"value of a finally is:\",a)\n",
    "\n",
    "try:\n",
    "    print(\"Inside try block\")\n",
    "    funcforexcept()           #calling function which contains zero division error statment\n",
    "except ZeroDivisionError:     #catching ZeroDivisionError exception\n",
    "    print(\"ZeroDivisionError: Inside except block\")"
   ]
  },
  {
   "cell_type": "code",
   "execution_count": 11,
   "metadata": {},
   "outputs": [
    {
     "name": "stdout",
     "output_type": "stream",
     "text": [
      "Americans  Play Baseball\n",
      "Americans  Play cricket\n",
      "Americans  watch Baseball\n",
      "Americans  watch cricket\n",
      "Indians  Play Baseball\n",
      "Indians  Play cricket\n",
      "Indians  watch Baseball\n",
      "Indians  watch cricket\n"
     ]
    }
   ],
   "source": [
    "'''\n",
    "Assignment 5.2\n",
    "A simple program in python to generate all sentences where subject is in [\"Americans\",\n",
    "\"Indians\"] and verb is in [\"Play\", \"watch\"] and the object is in [\"Baseball\",\"cricket\"].\n",
    "'''\n",
    "subject =[\"Americans\",\"Indians\"]   #subject list\n",
    "verb=[\"Play\", \"watch\"]             #verb list\n",
    "obj=[\"Baseball\",\"cricket\"]         #object list\n",
    "sentence=[s+\" \"+\" \"+v+\" \"+o  for s in subject for v in verb for o in obj]       #constructing sentence and storing in list\n",
    "for s in sentence:   #iterating through the list\n",
    "    print(s)\n",
    " "
   ]
  }
 ],
 "metadata": {
  "kernelspec": {
   "display_name": "Python 3",
   "language": "python",
   "name": "python3"
  },
  "language_info": {
   "codemirror_mode": {
    "name": "ipython",
    "version": 3
   },
   "file_extension": ".py",
   "mimetype": "text/x-python",
   "name": "python",
   "nbconvert_exporter": "python",
   "pygments_lexer": "ipython3",
   "version": "3.6.5"
  }
 },
 "nbformat": 4,
 "nbformat_minor": 2
}
